{
 "cells": [
  {
   "cell_type": "markdown",
   "metadata": {},
   "source": [
    "# 하는법\n",
    "1. https://developer.codef.io/products 에서 원하는 메뉴 접속\n",
    "2. Endpoint 뒤에 (예시) /v1/kr/public/nt/hometax-certificate/status 복사\n",
    "3. 오른쪽input python code 복사해서 (input 값에 따라 sandbox는 변화는 없지만)\n",
    "4. 07_product/main.py 코드 가서 endpoint 뒤에 꺼랑 parameter 넣어주면 결과 나옴\n",
    "5. 결과중에 result는 data 가 output"
   ]
  },
  {
   "cell_type": "code",
   "execution_count": 43,
   "metadata": {},
   "outputs": [],
   "source": [
    "_public_key = #enter your pulbic key for SANDBOX"
   ]
  },
  {
   "cell_type": "markdown",
   "metadata": {},
   "source": [
    "## 01.  국세청 증명서 진위여부\n",
    "https://developer.codef.io/products/public/each/c/hometax-cert-status"
   ]
  },
  {
   "cell_type": "code",
   "execution_count": 65,
   "metadata": {
    "scrolled": false
   },
   "outputs": [
    {
     "name": "stdout",
     "output_type": "stream",
     "text": [
      "paramter: {'organization': '0001', 'issueNo': '****13876****', 'identity': '6**037****'} \n",
      "\n",
      "result: {\"result\": {\"code\": \"CF-00000\", \"extraMessage\": \"\", \"message\": \"성공\", \"transactionId\": \"79472d986f824140a094ea98822d8cb5\"}, \"data\": {\"resAuthenticity\": \"1\", \"resAuthenticityDesc\": \"\"}} \n",
      "\n",
      "data \": {\"resAuthenticity\": \"1\", \"resAuthenticityDesc\": \"\"}} \n",
      "\n",
      "DB:  {'organization': '0001', 'issueNo': '****13876****', 'identity': '6**037****', 'resAuthenticity': '1', 'resAuthenticityDesc': ''}\n"
     ]
    }
   ],
   "source": [
    "%run 07_product/01_tax_certificate.py -- _public_key "
   ]
  },
  {
   "cell_type": "markdown",
   "metadata": {},
   "source": [
    "## 02.  국세청 사업자 등록 상태\n",
    "https://developer.codef.io/products/public/each/c/business"
   ]
  },
  {
   "cell_type": "code",
   "execution_count": 66,
   "metadata": {
    "scrolled": true
   },
   "outputs": [
    {
     "name": "stdout",
     "output_type": "stream",
     "text": [
      "paramter: {'organization': '0004', 'reqIdentityList': []} \n",
      "\n",
      "result: {\"result\": {\"code\": \"CF-00000\", \"extraMessage\": \"\", \"message\": \"성공\", \"transactionId\": \"786e01e459af491888e1f782d1902e40\"}, \"data\": [{\"resBusinessStatus\": \"사업을하지않고있습니다.\", \"resCompanyIdentityNo\": \"3333344444\", \"code\": \"CF-00000\", \"resTaxationTypeCode\": \"98\", \"extraMessage\": null, \"resClosingDate\": \"\", \"resTransferTaxTypeDate\": \"\", \"message\": \"성공\"}, {\"resBusinessStatus\": \"부가가치세일반과세자입니다.\\n*과세유형전환된날짜는2011년07월01일입니다.\", \"resCompanyIdentityNo\": \"1234567890\", \"code\": \"CF-00000\", \"resTaxationTypeCode\": \"1\", \"extraMessage\": null, \"resClosingDate\": \"\", \"resTransferTaxTypeDate\": \"20110701\", \"message\": \"성공\"}]} \n",
      "\n",
      "data \": [{\"resBusinessStatus\": \"사업을하지않고있습니다.\", \"resCompanyIdentityNo\": \"3333344444\", \"code\": \"CF-00000\", \"resTaxationTypeCode\": \"98\", \"extraMessage\": null, \"resClosingDate\": \"\", \"resTransferTaxTypeDate\": \"\", \"message\": \"성공\"}, {\"resBusinessStatus\": \"부가가치세일반과세자입니다.\\n*과세유형전환된날짜는2011년07월01일입니다.\", \"resCompanyIdentityNo\": \"1234567890\", \"code\": \"CF-00000\", \"resTaxationTypeCode\": \"1\", \"extraMessage\": null, \"resClosingDate\": \"\", \"resTransferTaxTypeDate\": \"20110701\", \"message\": \"성공\"}]} \n",
      "\n"
     ]
    },
    {
     "ename": "ValueError",
     "evalue": "dictionary update sequence element #0 has length 8; 2 is required",
     "output_type": "error",
     "traceback": [
      "\u001b[1;31m---------------------------------------------------------------------------\u001b[0m",
      "\u001b[1;31mValueError\u001b[0m                                Traceback (most recent call last)",
      "\u001b[1;32m~\\Desktop\\easycodefpy-exam\\07_product\\02_tax_license.py\u001b[0m in \u001b[0;36m<module>\u001b[1;34m\u001b[0m\n\u001b[0;32m     56\u001b[0m \u001b[1;33m\u001b[0m\u001b[0m\n\u001b[0;32m     57\u001b[0m \u001b[0mtotal_dict\u001b[0m\u001b[1;33m=\u001b[0m\u001b[0mparameter\u001b[0m\u001b[1;33m\u001b[0m\u001b[1;33m\u001b[0m\u001b[0m\n\u001b[1;32m---> 58\u001b[1;33m \u001b[0mtotal_dict\u001b[0m\u001b[1;33m.\u001b[0m\u001b[0mupdate\u001b[0m\u001b[1;33m(\u001b[0m\u001b[0mdata_dict\u001b[0m\u001b[1;33m)\u001b[0m\u001b[1;33m\u001b[0m\u001b[1;33m\u001b[0m\u001b[0m\n\u001b[0m\u001b[0;32m     59\u001b[0m \u001b[0mprint\u001b[0m\u001b[1;33m(\u001b[0m\u001b[1;34m\"DB: \"\u001b[0m\u001b[1;33m,\u001b[0m\u001b[0mtotal_dict\u001b[0m\u001b[1;33m)\u001b[0m\u001b[1;33m\u001b[0m\u001b[1;33m\u001b[0m\u001b[0m\n\u001b[0;32m     60\u001b[0m \u001b[1;33m\u001b[0m\u001b[0m\n",
      "\u001b[1;31mValueError\u001b[0m: dictionary update sequence element #0 has length 8; 2 is required"
     ]
    }
   ],
   "source": [
    "%run 07_product/02_tax_license.py -- _public_key "
   ]
  },
  {
   "cell_type": "markdown",
   "metadata": {},
   "source": [
    "## 03. 카드> 기타 가맹점 정보 API : \n",
    "https://developer.codef.io/products/card/common/etc/member-store"
   ]
  },
  {
   "cell_type": "code",
   "execution_count": 71,
   "metadata": {
    "scrolled": false
   },
   "outputs": [
    {
     "name": "stdout",
     "output_type": "stream",
     "text": [
      "paramter: {'organization': '0302', 'companyIdentityNo': '1*********', 'birthDate': ''} \n",
      "\n",
      "result: {\"result\": {\"code\": \"CF-00000\", \"extraMessage\": \"\", \"message\": \"성공\", \"transactionId\": \"31461a9690854d609b8fb658453aa17e\"}, \"data\": {\"resState\": \"\", \"resUserAddr\": \"\", \"resMemberStoreName\": \"**\", \"resMemberStoreNo\": \"88******\", \"commEndDate\": \"\", \"resCorpYN\": \"\", \"resKind\": \"\", \"resJoinDate\": \"20*******\", \"resCeoName\": \"김**\"}} \n",
      "\n",
      "data \": {\"resState\": \"\", \"resUserAddr\": \"\", \"resMemberStoreName\": \"**\", \"resMemberStoreNo\": \"88******\", \"commEndDate\": \"\", \"resCorpYN\": \"\", \"resKind\": \"\", \"resJoinDate\": \"20*******\", \"resCeoName\": \"김**\"}} \n",
      "\n",
      "DB:  {'organization': '0302', 'companyIdentityNo': '1*********', 'birthDate': '', 'resState': '', 'resUserAddr': '', 'resMemberStoreName': '**', 'resMemberStoreNo': '88******', 'commEndDate': '', 'resCorpYN': '', 'resKind': '', 'resJoinDate': '20*******', 'resCeoName': '김**'}\n"
     ]
    }
   ],
   "source": [
    "%run 07_product/03_resMemberStore.py -- _public_key "
   ]
  },
  {
   "cell_type": "code",
   "execution_count": null,
   "metadata": {},
   "outputs": [],
   "source": []
  }
 ],
 "metadata": {
  "kernelspec": {
   "display_name": "Python 3",
   "language": "python",
   "name": "python3"
  },
  "language_info": {
   "codemirror_mode": {
    "name": "ipython",
    "version": 3
   },
   "file_extension": ".py",
   "mimetype": "text/x-python",
   "name": "python",
   "nbconvert_exporter": "python",
   "pygments_lexer": "ipython3",
   "version": "3.7.9"
  }
 },
 "nbformat": 4,
 "nbformat_minor": 4
}
