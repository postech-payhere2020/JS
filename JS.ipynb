{
 "cells": [
  {
   "cell_type": "code",
   "execution_count": 1,
   "metadata": {},
   "outputs": [],
   "source": [
    "import sqlite3\n",
    "import pandas as pd\n",
    "from pandas import Series, DataFrame"
   ]
  },
  {
   "cell_type": "code",
   "execution_count": 2,
   "metadata": {},
   "outputs": [],
   "source": [
    "_public_key = \"\""
   ]
  },
  {
   "cell_type": "code",
   "execution_count": 2,
   "metadata": {},
   "outputs": [],
   "source": [
    "#conn.close()"
   ]
  },
  {
   "cell_type": "markdown",
   "metadata": {},
   "source": [
    "## 01.  국세청 증명서 진위여부\n",
    "https://developer.codef.io/products/public/each/c/hometax-cert-status"
   ]
  },
  {
   "cell_type": "code",
   "execution_count": 3,
   "metadata": {
    "scrolled": false
   },
   "outputs": [
    {
     "name": "stdout",
     "output_type": "stream",
     "text": [
      "paramter: {'organization': '0001', 'issueNo': '****13876****', 'identity': '6**037****'} \n",
      "\n",
      "result: {\"result\": {\"code\": \"CF-00000\", \"extraMessage\": \"\", \"message\": \"성공\", \"transactionId\": \"79472d986f824140a094ea98822d8cb5\"}, \"data\": {\"resAuthenticity\": \"1\", \"resAuthenticityDesc\": \"\"}} \n",
      "\n",
      "data \": {\"resAuthenticity\": \"1\", \"resAuthenticityDesc\": \"\"}} \n",
      "\n",
      "DB:  {'organization': '0001', 'issueNo': '****13876****', 'identity': '6**037****', 'resAuthenticity': '1', 'resAuthenticityDesc': ''}\n"
     ]
    }
   ],
   "source": [
    "%run 07_product/01_tax_certificate.py -- _public_key "
   ]
  },
  {
   "cell_type": "code",
   "execution_count": null,
   "metadata": {},
   "outputs": [],
   "source": []
  },
  {
   "cell_type": "code",
   "execution_count": 4,
   "metadata": {},
   "outputs": [
    {
     "name": "stdout",
     "output_type": "stream",
     "text": [
      "(0, '0001', '****13876****', '6**037****', '1', '')\n"
     ]
    }
   ],
   "source": [
    "##SQLITE QUERY\n",
    "c=conn.cursor()\n",
    "sql1=\"SELECT * FROM tax_certificate WHERE organization= :organization AND issueNo= :issueNo AND identity=:identity\"\n",
    "c.execute(sql1, {'organization': '0001', 'issueNo': '****13876****', 'identity': '6**037****'}) #입력값\n",
    "\n",
    "for row in c.fetchall():\n",
    "    print(row)"
   ]
  },
  {
   "cell_type": "markdown",
   "metadata": {},
   "source": [
    "## 02.  국세청 사업자 등록 상태\n",
    "https://developer.codef.io/products/public/each/c/business"
   ]
  },
  {
   "cell_type": "code",
   "execution_count": 5,
   "metadata": {
    "scrolled": true
   },
   "outputs": [
    {
     "name": "stdout",
     "output_type": "stream",
     "text": [
      "paramter: {'organization': '0004', 'reqIdentityList': []} \n",
      "\n",
      "result: {\"result\": {\"code\": \"CF-00000\", \"extraMessage\": \"\", \"message\": \"성공\", \"transactionId\": \"786e01e459af491888e1f782d1902e40\"}, \"data\": [{\"resBusinessStatus\": \"사업을하지않고있습니다.\", \"resCompanyIdentityNo\": \"3333344444\", \"code\": \"CF-00000\", \"resTaxationTypeCode\": \"98\", \"extraMessage\": null, \"resClosingDate\": \"\", \"resTransferTaxTypeDate\": \"\", \"message\": \"성공\"}, {\"resBusinessStatus\": \"부가가치세일반과세자입니다.\\n*과세유형전환된날짜는2011년07월01일입니다.\", \"resCompanyIdentityNo\": \"1234567890\", \"code\": \"CF-00000\", \"resTaxationTypeCode\": \"1\", \"extraMessage\": null, \"resClosingDate\": \"\", \"resTransferTaxTypeDate\": \"20110701\", \"message\": \"성공\"}]} \n",
      "\n"
     ]
    }
   ],
   "source": [
    "%run 07_product/02_tax_license.py -- _public_key "
   ]
  },
  {
   "cell_type": "code",
   "execution_count": 6,
   "metadata": {},
   "outputs": [],
   "source": [
    "#답변 2개\n",
    "response1={'organization': '0004', 'reqIdentityList': \"[]\",\"resBusinessStatus\": \"사업을하지않고있습니다.\", \"resCompanyIdentityNo\": \"3333344444\", \"code\": \"CF-00000\", \"resTaxationTypeCode\": \"98\", \"extraMessage\": \"null\", \"resClosingDate\": \"\", \"resTransferTaxTypeDate\": \"\", \"message\": \"성공\"}\n",
    "response2={'organization': '0003', 'reqIdentityList': \"[]\",\"resBusinessStatus\": \"부가가치세일반과세자입니다.\\n*과세유형전환된날짜는2011년07월01일입니다.\", \"resCompanyIdentityNo\": \"1234567890\", \"code\": \"CF-00000\", \"resTaxationTypeCode\": \"1\", \"extraMessage\": \"null\", \"resClosingDate\": \"\", \"resTransferTaxTypeDate\": \"20110701\", \"message\": \"성공\"}\n",
    "\n",
    "df_pb2 = DataFrame(response1, index=[0])\n",
    "df_pb2=df_pb2.append(response2, ignore_index = True)"
   ]
  },
  {
   "cell_type": "code",
   "execution_count": 7,
   "metadata": {},
   "outputs": [],
   "source": [
    "conn = sqlite3.connect('payhere.db', isolation_level= None)\n",
    "df_pb2.to_sql('tax_license', conn, if_exists='replace')"
   ]
  },
  {
   "cell_type": "code",
   "execution_count": null,
   "metadata": {},
   "outputs": [],
   "source": []
  },
  {
   "cell_type": "code",
   "execution_count": 8,
   "metadata": {},
   "outputs": [
    {
     "name": "stdout",
     "output_type": "stream",
     "text": [
      "(1, '0003', '[]', '부가가치세일반과세자입니다.\\n*과세유형전환된날짜는2011년07월01일입니다.', '1234567890', 'CF-00000', '1', 'null', '', '20110701', '성공')\n"
     ]
    }
   ],
   "source": [
    "##SQLITE QUERY for response 2\n",
    "c=conn.cursor()\n",
    "sql2=\"SELECT * FROM tax_license WHERE organization= :organization AND reqIdentityList = :reqIdentityList\"\n",
    "c.execute(sql2,{'organization': '0003', 'reqIdentityList': \"[]\"} ) #입력값\n",
    "\n",
    "for row in c.fetchall():\n",
    "    print(row)"
   ]
  },
  {
   "cell_type": "markdown",
   "metadata": {},
   "source": [
    "## 03. 카드> 기타 가맹점 정보 API : \n",
    "https://developer.codef.io/products/card/common/etc/member-store"
   ]
  },
  {
   "cell_type": "code",
   "execution_count": 9,
   "metadata": {
    "scrolled": false
   },
   "outputs": [
    {
     "name": "stdout",
     "output_type": "stream",
     "text": [
      "paramter: {'organization': '0302', 'companyIdentityNo': '1*********', 'birthDate': ''} \n",
      "\n",
      "result: {\"result\": {\"code\": \"CF-00000\", \"extraMessage\": \"\", \"message\": \"성공\", \"transactionId\": \"31461a9690854d609b8fb658453aa17e\"}, \"data\": {\"resState\": \"\", \"resUserAddr\": \"\", \"resMemberStoreName\": \"**\", \"resMemberStoreNo\": \"88******\", \"commEndDate\": \"\", \"resCorpYN\": \"\", \"resKind\": \"\", \"resJoinDate\": \"20*******\", \"resCeoName\": \"김**\"}} \n",
      "\n",
      "data \": {\"resState\": \"\", \"resUserAddr\": \"\", \"resMemberStoreName\": \"**\", \"resMemberStoreNo\": \"88******\", \"commEndDate\": \"\", \"resCorpYN\": \"\", \"resKind\": \"\", \"resJoinDate\": \"20*******\", \"resCeoName\": \"김**\"}} \n",
      "\n",
      "DB:  {'organization': '0302', 'companyIdentityNo': '1*********', 'birthDate': '', 'resState': '', 'resUserAddr': '', 'resMemberStoreName': '**', 'resMemberStoreNo': '88******', 'commEndDate': '', 'resCorpYN': '', 'resKind': '', 'resJoinDate': '20*******', 'resCeoName': '김**'}\n"
     ]
    }
   ],
   "source": [
    "%run 07_product/03_resMemberStore.py -- _public_key "
   ]
  },
  {
   "cell_type": "code",
   "execution_count": null,
   "metadata": {},
   "outputs": [],
   "source": []
  },
  {
   "cell_type": "code",
   "execution_count": 10,
   "metadata": {
    "scrolled": true
   },
   "outputs": [
    {
     "name": "stdout",
     "output_type": "stream",
     "text": [
      "(0, '0302', '1*********', '', '', '', '**', '88******', '', '', '', '20*******', '김**')\n"
     ]
    }
   ],
   "source": [
    "##SQLITE QUERY\n",
    "c=conn.cursor()\n",
    "sql3=\"SELECT * FROM resMemberStore WHERE organization= :organization AND companyIdentityNo= :companyIdentityNo AND birthDate= :birthDate\"\n",
    "c.execute(sql3, {'organization': '0302', 'companyIdentityNo': '1*********', 'birthDate': ''}) #입력값\n",
    "\n",
    "for row in c.fetchall():\n",
    "    print(row)"
   ]
  }
 ],
 "metadata": {
  "kernelspec": {
   "display_name": "Python 3",
   "language": "python",
   "name": "python3"
  },
  "language_info": {
   "codemirror_mode": {
    "name": "ipython",
    "version": 3
   },
   "file_extension": ".py",
   "mimetype": "text/x-python",
   "name": "python",
   "nbconvert_exporter": "python",
   "pygments_lexer": "ipython3",
   "version": "3.7.9"
  }
 },
 "nbformat": 4,
 "nbformat_minor": 4
}
